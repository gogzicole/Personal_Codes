{
  "nbformat": 4,
  "nbformat_minor": 0,
  "metadata": {
    "colab": {
      "name": "Practice.ipynb",
      "provenance": [],
      "collapsed_sections": [],
      "authorship_tag": "ABX9TyMfKoTM3V8scQCo5gRaWJka",
      "include_colab_link": true
    },
    "kernelspec": {
      "name": "python3",
      "display_name": "Python 3"
    }
  },
  "cells": [
    {
      "cell_type": "markdown",
      "metadata": {
        "id": "view-in-github",
        "colab_type": "text"
      },
      "source": [
        "<a href=\"https://colab.research.google.com/github/gogzicole/Personal_Codes/blob/main/Practice.ipynb\" target=\"_parent\"><img src=\"https://colab.research.google.com/assets/colab-badge.svg\" alt=\"Open In Colab\"/></a>"
      ]
    },
    {
      "cell_type": "markdown",
      "metadata": {
        "id": "FmUvLWTpsqC2"
      },
      "source": [
        "**1. Defining a function that flattens a list encapsulated in a list**"
      ]
    },
    {
      "cell_type": "code",
      "metadata": {
        "id": "B_io24LQ0Ptp"
      },
      "source": [
        "import pandas as pd\r\n",
        "import numpy as np\r\n",
        "from pandas import Series, DataFrame"
      ],
      "execution_count": 2,
      "outputs": []
    },
    {
      "cell_type": "code",
      "metadata": {
        "colab": {
          "base_uri": "https://localhost:8080/",
          "height": 204
        },
        "id": "QkwMdeyf_-Q0",
        "outputId": "3990b1d8-e664-4342-a3d3-cf7ce9a120b0"
      },
      "source": [
        "df = pd.read_csv('Labels.csv')\r\n",
        "df.head()"
      ],
      "execution_count": 40,
      "outputs": [
        {
          "output_type": "execute_result",
          "data": {
            "text/html": [
              "<div>\n",
              "<style scoped>\n",
              "    .dataframe tbody tr th:only-of-type {\n",
              "        vertical-align: middle;\n",
              "    }\n",
              "\n",
              "    .dataframe tbody tr th {\n",
              "        vertical-align: top;\n",
              "    }\n",
              "\n",
              "    .dataframe thead th {\n",
              "        text-align: right;\n",
              "    }\n",
              "</style>\n",
              "<table border=\"1\" class=\"dataframe\">\n",
              "  <thead>\n",
              "    <tr style=\"text-align: right;\">\n",
              "      <th></th>\n",
              "      <th>Unnamed: 0</th>\n",
              "      <th>labels</th>\n",
              "    </tr>\n",
              "  </thead>\n",
              "  <tbody>\n",
              "    <tr>\n",
              "      <th>0</th>\n",
              "      <td>0</td>\n",
              "      <td>[[0, 8, 'Surname']]</td>\n",
              "    </tr>\n",
              "    <tr>\n",
              "      <th>1</th>\n",
              "      <td>1</td>\n",
              "      <td>[[11, 17, 'Surname'], [0, 10, 'Male']]</td>\n",
              "    </tr>\n",
              "    <tr>\n",
              "      <th>2</th>\n",
              "      <td>2</td>\n",
              "      <td>[[0, 7, 'Female'], [8, 14, 'Surname']]</td>\n",
              "    </tr>\n",
              "    <tr>\n",
              "      <th>3</th>\n",
              "      <td>3</td>\n",
              "      <td>[[0, 4, 'Male'], [5, 12, 'Surname']]</td>\n",
              "    </tr>\n",
              "    <tr>\n",
              "      <th>4</th>\n",
              "      <td>4</td>\n",
              "      <td>[[0, 5, 'Male'], [6, 11, 'Surname']]</td>\n",
              "    </tr>\n",
              "  </tbody>\n",
              "</table>\n",
              "</div>"
            ],
            "text/plain": [
              "   Unnamed: 0                                  labels\n",
              "0           0                     [[0, 8, 'Surname']]\n",
              "1           1  [[11, 17, 'Surname'], [0, 10, 'Male']]\n",
              "2           2  [[0, 7, 'Female'], [8, 14, 'Surname']]\n",
              "3           3    [[0, 4, 'Male'], [5, 12, 'Surname']]\n",
              "4           4    [[0, 5, 'Male'], [6, 11, 'Surname']]"
            ]
          },
          "metadata": {
            "tags": []
          },
          "execution_count": 40
        }
      ]
    },
    {
      "cell_type": "code",
      "metadata": {
        "id": "iERRUsy6AHHp"
      },
      "source": [
        "from ast import literal_eval\r\n",
        "df['labels'] = df['labels'].apply(literal_eval)"
      ],
      "execution_count": 41,
      "outputs": []
    },
    {
      "cell_type": "code",
      "metadata": {
        "colab": {
          "base_uri": "https://localhost:8080/",
          "height": 204
        },
        "id": "JHXWu_JOAX5u",
        "outputId": "bbdb1d1d-b1da-4bad-e297-b2efe6aef97f"
      },
      "source": [
        "def extractor(x):\r\n",
        "  if isinstance(x, list):\r\n",
        "    names = [lst for i in x for lst in i]\r\n",
        "    return ', '.join(str(v) for v in names)\r\n",
        "df['new_labels'] = df['labels'].apply(extractor)\r\n",
        "df.head()"
      ],
      "execution_count": 42,
      "outputs": [
        {
          "output_type": "execute_result",
          "data": {
            "text/html": [
              "<div>\n",
              "<style scoped>\n",
              "    .dataframe tbody tr th:only-of-type {\n",
              "        vertical-align: middle;\n",
              "    }\n",
              "\n",
              "    .dataframe tbody tr th {\n",
              "        vertical-align: top;\n",
              "    }\n",
              "\n",
              "    .dataframe thead th {\n",
              "        text-align: right;\n",
              "    }\n",
              "</style>\n",
              "<table border=\"1\" class=\"dataframe\">\n",
              "  <thead>\n",
              "    <tr style=\"text-align: right;\">\n",
              "      <th></th>\n",
              "      <th>Unnamed: 0</th>\n",
              "      <th>labels</th>\n",
              "      <th>new_labels</th>\n",
              "    </tr>\n",
              "  </thead>\n",
              "  <tbody>\n",
              "    <tr>\n",
              "      <th>0</th>\n",
              "      <td>0</td>\n",
              "      <td>[[0, 8, Surname]]</td>\n",
              "      <td>0, 8, Surname</td>\n",
              "    </tr>\n",
              "    <tr>\n",
              "      <th>1</th>\n",
              "      <td>1</td>\n",
              "      <td>[[11, 17, Surname], [0, 10, Male]]</td>\n",
              "      <td>11, 17, Surname, 0, 10, Male</td>\n",
              "    </tr>\n",
              "    <tr>\n",
              "      <th>2</th>\n",
              "      <td>2</td>\n",
              "      <td>[[0, 7, Female], [8, 14, Surname]]</td>\n",
              "      <td>0, 7, Female, 8, 14, Surname</td>\n",
              "    </tr>\n",
              "    <tr>\n",
              "      <th>3</th>\n",
              "      <td>3</td>\n",
              "      <td>[[0, 4, Male], [5, 12, Surname]]</td>\n",
              "      <td>0, 4, Male, 5, 12, Surname</td>\n",
              "    </tr>\n",
              "    <tr>\n",
              "      <th>4</th>\n",
              "      <td>4</td>\n",
              "      <td>[[0, 5, Male], [6, 11, Surname]]</td>\n",
              "      <td>0, 5, Male, 6, 11, Surname</td>\n",
              "    </tr>\n",
              "  </tbody>\n",
              "</table>\n",
              "</div>"
            ],
            "text/plain": [
              "   Unnamed: 0                              labels                    new_labels\n",
              "0           0                   [[0, 8, Surname]]                 0, 8, Surname\n",
              "1           1  [[11, 17, Surname], [0, 10, Male]]  11, 17, Surname, 0, 10, Male\n",
              "2           2  [[0, 7, Female], [8, 14, Surname]]  0, 7, Female, 8, 14, Surname\n",
              "3           3    [[0, 4, Male], [5, 12, Surname]]    0, 4, Male, 5, 12, Surname\n",
              "4           4    [[0, 5, Male], [6, 11, Surname]]    0, 5, Male, 6, 11, Surname"
            ]
          },
          "metadata": {
            "tags": []
          },
          "execution_count": 42
        }
      ]
    },
    {
      "cell_type": "code",
      "metadata": {
        "colab": {
          "base_uri": "https://localhost:8080/",
          "height": 204
        },
        "id": "qf9r_i-9BFEh",
        "outputId": "59818eda-3952-4c59-d2b6-32176caf8bc8"
      },
      "source": [
        "df['male'] = df.new_labels.str.contains('Male', case = True)\r\n",
        "df.head()"
      ],
      "execution_count": 43,
      "outputs": [
        {
          "output_type": "execute_result",
          "data": {
            "text/html": [
              "<div>\n",
              "<style scoped>\n",
              "    .dataframe tbody tr th:only-of-type {\n",
              "        vertical-align: middle;\n",
              "    }\n",
              "\n",
              "    .dataframe tbody tr th {\n",
              "        vertical-align: top;\n",
              "    }\n",
              "\n",
              "    .dataframe thead th {\n",
              "        text-align: right;\n",
              "    }\n",
              "</style>\n",
              "<table border=\"1\" class=\"dataframe\">\n",
              "  <thead>\n",
              "    <tr style=\"text-align: right;\">\n",
              "      <th></th>\n",
              "      <th>Unnamed: 0</th>\n",
              "      <th>labels</th>\n",
              "      <th>new_labels</th>\n",
              "      <th>male</th>\n",
              "    </tr>\n",
              "  </thead>\n",
              "  <tbody>\n",
              "    <tr>\n",
              "      <th>0</th>\n",
              "      <td>0</td>\n",
              "      <td>[[0, 8, Surname]]</td>\n",
              "      <td>0, 8, Surname</td>\n",
              "      <td>False</td>\n",
              "    </tr>\n",
              "    <tr>\n",
              "      <th>1</th>\n",
              "      <td>1</td>\n",
              "      <td>[[11, 17, Surname], [0, 10, Male]]</td>\n",
              "      <td>11, 17, Surname, 0, 10, Male</td>\n",
              "      <td>True</td>\n",
              "    </tr>\n",
              "    <tr>\n",
              "      <th>2</th>\n",
              "      <td>2</td>\n",
              "      <td>[[0, 7, Female], [8, 14, Surname]]</td>\n",
              "      <td>0, 7, Female, 8, 14, Surname</td>\n",
              "      <td>False</td>\n",
              "    </tr>\n",
              "    <tr>\n",
              "      <th>3</th>\n",
              "      <td>3</td>\n",
              "      <td>[[0, 4, Male], [5, 12, Surname]]</td>\n",
              "      <td>0, 4, Male, 5, 12, Surname</td>\n",
              "      <td>True</td>\n",
              "    </tr>\n",
              "    <tr>\n",
              "      <th>4</th>\n",
              "      <td>4</td>\n",
              "      <td>[[0, 5, Male], [6, 11, Surname]]</td>\n",
              "      <td>0, 5, Male, 6, 11, Surname</td>\n",
              "      <td>True</td>\n",
              "    </tr>\n",
              "  </tbody>\n",
              "</table>\n",
              "</div>"
            ],
            "text/plain": [
              "   Unnamed: 0  ...   male\n",
              "0           0  ...  False\n",
              "1           1  ...   True\n",
              "2           2  ...  False\n",
              "3           3  ...   True\n",
              "4           4  ...   True\n",
              "\n",
              "[5 rows x 4 columns]"
            ]
          },
          "metadata": {
            "tags": []
          },
          "execution_count": 43
        }
      ]
    },
    {
      "cell_type": "code",
      "metadata": {
        "colab": {
          "base_uri": "https://localhost:8080/",
          "height": 204
        },
        "id": "rLAdoxICDrba",
        "outputId": "928daab8-4a5a-4e04-b376-6c0541bd6550"
      },
      "source": [
        "df['gender'] = np.where(df.male == False, 'Female','Male')\r\n",
        "df.head()"
      ],
      "execution_count": 44,
      "outputs": [
        {
          "output_type": "execute_result",
          "data": {
            "text/html": [
              "<div>\n",
              "<style scoped>\n",
              "    .dataframe tbody tr th:only-of-type {\n",
              "        vertical-align: middle;\n",
              "    }\n",
              "\n",
              "    .dataframe tbody tr th {\n",
              "        vertical-align: top;\n",
              "    }\n",
              "\n",
              "    .dataframe thead th {\n",
              "        text-align: right;\n",
              "    }\n",
              "</style>\n",
              "<table border=\"1\" class=\"dataframe\">\n",
              "  <thead>\n",
              "    <tr style=\"text-align: right;\">\n",
              "      <th></th>\n",
              "      <th>Unnamed: 0</th>\n",
              "      <th>labels</th>\n",
              "      <th>new_labels</th>\n",
              "      <th>male</th>\n",
              "      <th>gender</th>\n",
              "    </tr>\n",
              "  </thead>\n",
              "  <tbody>\n",
              "    <tr>\n",
              "      <th>0</th>\n",
              "      <td>0</td>\n",
              "      <td>[[0, 8, Surname]]</td>\n",
              "      <td>0, 8, Surname</td>\n",
              "      <td>False</td>\n",
              "      <td>Female</td>\n",
              "    </tr>\n",
              "    <tr>\n",
              "      <th>1</th>\n",
              "      <td>1</td>\n",
              "      <td>[[11, 17, Surname], [0, 10, Male]]</td>\n",
              "      <td>11, 17, Surname, 0, 10, Male</td>\n",
              "      <td>True</td>\n",
              "      <td>Male</td>\n",
              "    </tr>\n",
              "    <tr>\n",
              "      <th>2</th>\n",
              "      <td>2</td>\n",
              "      <td>[[0, 7, Female], [8, 14, Surname]]</td>\n",
              "      <td>0, 7, Female, 8, 14, Surname</td>\n",
              "      <td>False</td>\n",
              "      <td>Female</td>\n",
              "    </tr>\n",
              "    <tr>\n",
              "      <th>3</th>\n",
              "      <td>3</td>\n",
              "      <td>[[0, 4, Male], [5, 12, Surname]]</td>\n",
              "      <td>0, 4, Male, 5, 12, Surname</td>\n",
              "      <td>True</td>\n",
              "      <td>Male</td>\n",
              "    </tr>\n",
              "    <tr>\n",
              "      <th>4</th>\n",
              "      <td>4</td>\n",
              "      <td>[[0, 5, Male], [6, 11, Surname]]</td>\n",
              "      <td>0, 5, Male, 6, 11, Surname</td>\n",
              "      <td>True</td>\n",
              "      <td>Male</td>\n",
              "    </tr>\n",
              "  </tbody>\n",
              "</table>\n",
              "</div>"
            ],
            "text/plain": [
              "   Unnamed: 0                              labels  ...   male  gender\n",
              "0           0                   [[0, 8, Surname]]  ...  False  Female\n",
              "1           1  [[11, 17, Surname], [0, 10, Male]]  ...   True    Male\n",
              "2           2  [[0, 7, Female], [8, 14, Surname]]  ...  False  Female\n",
              "3           3    [[0, 4, Male], [5, 12, Surname]]  ...   True    Male\n",
              "4           4    [[0, 5, Male], [6, 11, Surname]]  ...   True    Male\n",
              "\n",
              "[5 rows x 5 columns]"
            ]
          },
          "metadata": {
            "tags": []
          },
          "execution_count": 44
        }
      ]
    },
    {
      "cell_type": "markdown",
      "metadata": {
        "id": "tld5JzvOtBh5"
      },
      "source": [
        "**2. Define a function that accepts a year as its argument and tells if its a leap year or not**"
      ]
    },
    {
      "cell_type": "code",
      "metadata": {
        "id": "adjBrGeuFcZM"
      },
      "source": [
        "def isYearLeap(year):\r\n",
        "    if (year % 4 == 0 and year % 100 != 0) or (year % 400 == 0 and year % 100 == 0):\r\n",
        "      return True\r\n",
        "    else:\r\n",
        "      return False\r\n"
      ],
      "execution_count": 76,
      "outputs": []
    },
    {
      "cell_type": "code",
      "metadata": {
        "colab": {
          "base_uri": "https://localhost:8080/"
        },
        "id": "MjwbYqW1Oyka",
        "outputId": "5ddc7226-b7b9-4fe1-bdad-68ea32063ebe"
      },
      "source": [
        "testData = [1900, 2000, 2016, 1987]\r\n",
        "testResults = [False, True, True, False]\r\n",
        "for i in range(len(testData)):\r\n",
        "\tyr = testData[i]\r\n",
        "\tprint(yr,\"->\",end=\"\")\r\n",
        "\tresult = isYearLeap(yr)\r\n",
        "\tif result == testResults[i]:\r\n",
        "\t\tprint(\"OK\")\r\n",
        "\telse:\r\n",
        "\t\tprint(\"Failed\")"
      ],
      "execution_count": 77,
      "outputs": [
        {
          "output_type": "stream",
          "text": [
            "1900 ->OK\n",
            "2000 ->OK\n",
            "2016 ->OK\n",
            "1987 ->OK\n"
          ],
          "name": "stdout"
        }
      ]
    },
    {
      "cell_type": "markdown",
      "metadata": {
        "id": "mMqE-EnOtXfj"
      },
      "source": [
        "**3. Define a function that takes a month and a year a checks if the year is leap year or not and hence return the number of days in that month**"
      ]
    },
    {
      "cell_type": "code",
      "metadata": {
        "colab": {
          "base_uri": "https://localhost:8080/"
        },
        "id": "1mZGpDj6RmmY",
        "outputId": "671ab123-50ba-4ebe-8a39-df0429d97659"
      },
      "source": [
        "def isYearLeap(year):\r\n",
        "    if (year % 4 == 0 and year % 100 != 0) or (year % 400 == 0 and year % 100 == 0):\r\n",
        "      return True\r\n",
        "    else:\r\n",
        "      return False\r\n",
        "\r\n",
        "def daysInMonth(year, month):\r\n",
        "     dct = {1:31,2:28,3:31,4:30,5:31,\r\n",
        "            6:30,7:31,8:31,9:30,10:31,\r\n",
        "            11:30,12:31}\r\n",
        "     for k,v in dct.items():\r\n",
        "        if (isYearLeap(year) and month == 2):\r\n",
        "          dct[2] += 1 \r\n",
        "        else:\r\n",
        "          dct[2] = dct[2] \r\n",
        "        return dct[month]\r\n",
        "\r\n",
        "\r\n",
        "testYears = [1900, 2000, 2016, 1987]\r\n",
        "testMonths = [2, 2, 1, 11]\r\n",
        "testResults = [28, 29, 31, 30]\r\n",
        "for i in range(len(testYears)):\r\n",
        "\tyr = testYears[i]\r\n",
        "\tmo = testMonths[i]\r\n",
        "\tprint(yr, mo, \"->\", end=\"\")\r\n",
        "\tresult = daysInMonth(yr, mo)\r\n",
        "\tif result == testResults[i]:\r\n",
        "\t\tprint(\"OK\")\r\n",
        "\telse:\r\n",
        "\t\tprint(\"Failed\")"
      ],
      "execution_count": 142,
      "outputs": [
        {
          "output_type": "stream",
          "text": [
            "1900 2 ->OK\n",
            "2000 2 ->OK\n",
            "2016 1 ->OK\n",
            "1987 11 ->OK\n"
          ],
          "name": "stdout"
        }
      ]
    },
    {
      "cell_type": "markdown",
      "metadata": {
        "id": "ID7_hoHytxzC"
      },
      "source": [
        "**4. Define a function that takes three arguments a year, month and day, and returns the day of the year**"
      ]
    },
    {
      "cell_type": "code",
      "metadata": {
        "id": "ZP345HaGcFS-"
      },
      "source": [
        "def isYearLeap(year):\r\n",
        "     if (year % 4 == 0 and year % 100 != 0) or (year % 400 == 0 and year % 100 == 0):\r\n",
        "      return True\r\n",
        "     else:\r\n",
        "      return False\r\n",
        "\r\n",
        "def daysInMonth(year, month):\r\n",
        "     dct = {1:31,2:28,3:31,4:30,5:31,\r\n",
        "            6:30,7:31,8:31,9:30,10:31,\r\n",
        "            11:30,12:31}\r\n",
        "     for k,v in dct.items():\r\n",
        "        if (isYearLeap(year) and month == 2):\r\n",
        "          dct[2] += 1 \r\n",
        "        else:\r\n",
        "          dct[2] = dct[2] \r\n",
        "        return dct[month]\r\n",
        "\r\n",
        "def dayOfYear(year, month, day):\r\n",
        "\r\n",
        "print(dayOfYear(2000, 12, 31))"
      ],
      "execution_count": null,
      "outputs": []
    },
    {
      "cell_type": "markdown",
      "metadata": {
        "id": "1EQp380SsOhH"
      },
      "source": [
        "**5. Define a function that checks if a number is prime or not and returns a boolean result.**"
      ]
    },
    {
      "cell_type": "code",
      "metadata": {
        "colab": {
          "base_uri": "https://localhost:8080/"
        },
        "id": "qj9FcY3anRFP",
        "outputId": "a16d0d0a-831c-4699-f85e-81f560788255"
      },
      "source": [
        "def isPrime(num):\r\n",
        "   if num < 2:\r\n",
        "       return False\r\n",
        "   for i in range(2, num):\r\n",
        "       if num % i == 0:\r\n",
        "         return False\r\n",
        "   return True\r\n",
        "# the block of code from here below i to help check for prime number between  ans 20. \r\n",
        "for i in range(1, 20):\r\n",
        "\tif isPrime(i + 1):\r\n",
        "\t\t\tprint(i + 1, end=\" \")\r\n",
        "print()"
      ],
      "execution_count": 2,
      "outputs": [
        {
          "output_type": "stream",
          "text": [
            "2 3 5 7 11 13 17 19 \n"
          ],
          "name": "stdout"
        }
      ]
    },
    {
      "cell_type": "markdown",
      "metadata": {
        "id": "ME7zz5hEuIZ0"
      },
      "source": [
        "**6. Use for Loop to make a function that creates the fibonacci sequence given a number as argument**"
      ]
    },
    {
      "cell_type": "code",
      "metadata": {
        "id": "3chqT7I9rvp4"
      },
      "source": [
        "def fibonacci(n):\r\n",
        "  initial = 0\r\n",
        "  present = 1\r\n",
        "  print(initial)\r\n",
        "  print(present)\r\n",
        "\r\n",
        "  for i in range(1,n+1):\r\n",
        "    next = initial + present\r\n",
        "    print(next)\r\n",
        "    initial = present\r\n",
        "    present = next\r\n",
        "fibonacci(8)"
      ],
      "execution_count": null,
      "outputs": []
    },
    {
      "cell_type": "markdown",
      "metadata": {
        "id": "4XvHcOydy6MQ"
      },
      "source": [
        "**7. Use while loop to make a function that creates fibonacci sequence given a number as argument**"
      ]
    },
    {
      "cell_type": "code",
      "metadata": {
        "id": "WRX2IGH60D9O"
      },
      "source": [
        ""
      ],
      "execution_count": null,
      "outputs": []
    },
    {
      "cell_type": "code",
      "metadata": {
        "id": "6HcnWMZHv_6r"
      },
      "source": [
        "def fibonacci_while(n):\r\n",
        "  initial = 0\r\n",
        "  present = 1\r\n",
        "  count = 2\r\n",
        "  print(initial)\r\n",
        "  print(present)\r\n",
        "\r\n",
        "  while count <= n:\r\n",
        "    next = initial + present\r\n",
        "    initial = present\r\n",
        "    present = next\r\n",
        "    print(next)\r\n",
        "    count += 1\r\n",
        "\r\n",
        "fibonacci_while(8)"
      ],
      "execution_count": null,
      "outputs": []
    },
    {
      "cell_type": "markdown",
      "metadata": {
        "id": "ajXyYNZa04Ml"
      },
      "source": [
        "**9. Fibonacci number using recurssion to return the last number in the sequence**"
      ]
    },
    {
      "cell_type": "code",
      "metadata": {
        "colab": {
          "base_uri": "https://localhost:8080/"
        },
        "id": "WQWvmw8e0ODa",
        "outputId": "4cc4b73f-6149-4426-8067-7cdee79df2ac"
      },
      "source": [
        "def fib_recurssion(n):\r\n",
        "  if n == 0:\r\n",
        "    return 0\r\n",
        "  elif n == 1:\r\n",
        "    return 1\r\n",
        "  else:\r\n",
        "    return fib_recurssion(n-1) + fib_recurssion(n-2)\r\n",
        "\r\n",
        "fib_recurssion(8)"
      ],
      "execution_count": 22,
      "outputs": [
        {
          "output_type": "execute_result",
          "data": {
            "text/plain": [
              "21"
            ]
          },
          "metadata": {
            "tags": []
          },
          "execution_count": 22
        }
      ]
    },
    {
      "cell_type": "markdown",
      "metadata": {
        "id": "SZ3JVRkb3ZAN"
      },
      "source": [
        "**10. Define a funcion that when called asks the user to input some text and then counts the number of occurence of the texts and outputs a sorted count of the observations and the counts**"
      ]
    },
    {
      "cell_type": "code",
      "metadata": {
        "colab": {
          "base_uri": "https://localhost:8080/"
        },
        "id": "Dj8_jPFT1dF-",
        "outputId": "6222714a-4587-40e0-af39-d97005892b0b"
      },
      "source": [
        "def textCounter():\r\n",
        "  text = str(input('input your text here: '))\r\n",
        "  dct = {}\r\n",
        "  for i in text:\r\n",
        "    dct[i] = 0\r\n",
        "  for k,v in dct.items():\r\n",
        "    for j in range(len(text)):\r\n",
        "      if k in text.lower()[j]:\r\n",
        "        dct[k] += 1\r\n",
        "\r\n",
        "  dct_hst = dict(sorted(dct.items(), key = lambda item: item[1], reverse = True))\r\n",
        "  for k,v in dct_hst.items():\r\n",
        "    print(k, '->', v)\r\n",
        "textCounter()"
      ],
      "execution_count": 71,
      "outputs": [
        {
          "output_type": "stream",
          "text": [
            "input your text here: gagashjajdfg\n",
            "g -> 3\n",
            "a -> 3\n",
            "j -> 2\n",
            "s -> 1\n",
            "h -> 1\n",
            "d -> 1\n",
            "f -> 1\n"
          ],
          "name": "stdout"
        }
      ]
    },
    {
      "cell_type": "markdown",
      "metadata": {
        "id": "xqTA-9DigdPq"
      },
      "source": [
        "**11. Define a class that returns a fraction as a rational divisor, define a reducer method and also and integer multiplier**\r\n"
      ]
    },
    {
      "cell_type": "code",
      "metadata": {
        "id": "DiAuCMbC8FgY"
      },
      "source": [
        "class Rational(object):\r\n",
        "  def __init__(self, numerator, denominator):\r\n",
        "    self.denominator = denominator\r\n",
        "    self.numerator = numerator\r\n",
        "\r\n",
        "  def __repr__(self):\r\n",
        "    if self.numerator % self.denominator != 0:\r\n",
        "        return '%d/%d' %(self.numerator,self.denominator)\r\n",
        "    else:\r\n",
        "        return '%d' %(self.numerator//self.denominator)\r\n",
        "\r\n",
        "  def __gcf(self):\r\n",
        "    smaller = min(self.numerator,self.denominator)\r\n",
        "    small_factor = {i for i in range(1, smaller+1) if smaller % i == 0}\r\n",
        "    bigger = max(self.numerator,self.denominator)\r\n",
        "    common_factor ={i for i in small_factor if bigger % i == 0}\r\n",
        "    return max(common_factor)\r\n",
        "\r\n",
        "  def lowest(self):\r\n",
        "    gcd = self.__gcf()\r\n",
        "    self.denominator = self.denominator/ gcd\r\n",
        "    self.numerator = self.numerator / gcd\r\n",
        "    return self\r\n",
        "\r\n",
        "  def decimal(self):\r\n",
        "    return self.numerator / self.denominator\r\n",
        "\r\n",
        "  def __mul__(self, number):\r\n",
        "    if isinstance(number,(float,int)):\r\n",
        "      return Rational(self.numerator*number, self.denominator)\r\n",
        "    elif isinstance(number, Rational):\r\n",
        "      return Rational(self.numerator * number.numerator,self.denominator * number.denominator)\r\n",
        "    else:\r\n",
        "      raise TypeError('Expected number to be int or rational got %s' %(type(number)))\r\n",
        "  \r\n",
        "  def __rmul__(self, number):\r\n",
        "    return self.__mul__(number)\r\n",
        "\r\n",
        "  def __add__(self,number):\r\n",
        "    if isinstance(number, int):\r\n",
        "      return Rational(self.numerator + (self.denominator*number), self.denominator)\r\n",
        "    elif isinstance(number, Rational):\r\n",
        "      __lcm = self.denominator * number.denominator\r\n",
        "      return Rational(self.numerator * (__lcm/self.denominator) + number.numerator*(__lcm/number.denominator), __lcm)\r\n",
        "    else:\r\n",
        "      raise TypeError('Expected number to be int or rational got %s' %(type(number)))\r\n",
        "\r\n",
        "  def __radd__(self,number):\r\n",
        "    return self.__add__(number)\r\n",
        "\r\n",
        "  def __sub__(self, number):\r\n",
        "    if isinstance(number, int):\r\n",
        "      return Rational(self.numerator - (self.denominator * number),self.denominator)\r\n",
        "    elif isinstance(number, Rational):\r\n",
        "      __lcm = self.denominator * number.denominator\r\n",
        "      return Rational(self.numerator * (__lcm/self.denominator) - number.numerator*(__lcm/number.denominator), __lcm)\r\n",
        "    else:\r\n",
        "      raise TypeError('Expected number to be int or rational got %s' %(type(number)))\r\n",
        "\r\n",
        "  def __rsub__(self,number):\r\n",
        "    if isinstance(number, int):\r\n",
        "      return Rational((self.denominator * number)- self.numerator, self.denominator)\r\n",
        "    else:\r\n",
        "      raise TypeError('Expected number to be int or rational got %s' %(type(number)))\r\n",
        "\r\n",
        "  "
      ],
      "execution_count": 108,
      "outputs": []
    },
    {
      "cell_type": "code",
      "metadata": {
        "colab": {
          "base_uri": "https://localhost:8080/"
        },
        "id": "P8aDi-lPhjty",
        "outputId": "84bb3c4a-9339-4c8e-f5d4-d546970735d0"
      },
      "source": [
        "rational1 = Rational(3,4)\r\n",
        "rational2 = Rational(5,2)\r\n",
        "rational2 - rational1\r\n"
      ],
      "execution_count": 110,
      "outputs": [
        {
          "output_type": "execute_result",
          "data": {
            "text/plain": [
              "14/8"
            ]
          },
          "metadata": {
            "tags": []
          },
          "execution_count": 110
        }
      ]
    },
    {
      "cell_type": "code",
      "metadata": {
        "id": "DT2wpDQ2z5sD"
      },
      "source": [
        ""
      ],
      "execution_count": null,
      "outputs": []
    }
  ]
}